{
 "cells": [
  {
   "cell_type": "code",
   "execution_count": null,
   "metadata": {},
   "outputs": [],
   "source": [
    "import os\n",
    "import time\n",
    "import uuid\n",
    "from datetime import datetime\n",
    "\n",
    "import fitz\n",
    "import pandas as pd\n",
    "\n",
    "from google.cloud import aiplatform\n",
    "from PIL import Image as PIL_Image\n",
    "from vertexai.generative_models import GenerativeModel, Image\n",
    "from vertexai.language_models import TextEmbeddingModel\n",
    "from google.cloud import storage\n",
    "\n",
    "from langchain.text_splitter import CharacterTextSplitter\n",
    "from langchain_community.document_loaders import DataFrameLoader"
   ]
  },
  {
   "cell_type": "code",
   "execution_count": null,
   "metadata": {},
   "outputs": [],
   "source": [
    "PROJECT_ID = \"{Project name}\" \n",
    "LOCATION = \"{Region name}\"  "
   ]
  },
  {
   "cell_type": "code",
   "execution_count": null,
   "metadata": {},
   "outputs": [],
   "source": [
    "multimodal_model = GenerativeModel('gemini-1.5-pro-preview-0409')\n",
    "\n",
    "text_embedding_model = TextEmbeddingModel.from_pretrained(\"textembedding-gecko@003\")"
   ]
  },
  {
   "cell_type": "code",
   "execution_count": null,
   "metadata": {},
   "outputs": [],
   "source": [
    "Image_Path = \"./Images/\"\n",
    "if not os.path.exists(Image_Path):\n",
    "    os.makedirs(Image_Path)"
   ]
  },
  {
   "cell_type": "code",
   "execution_count": null,
   "metadata": {},
   "outputs": [],
   "source": [
    "PDF_FILENAME = \"pdfs/google_report.pdf\""
   ]
  },
  {
   "cell_type": "code",
   "execution_count": null,
   "metadata": {},
   "outputs": [],
   "source": [
    "\n",
    "zoom_x = 2.0  \n",
    "zoom_y = 2.0  \n",
    "mat = fitz.Matrix(zoom_x, zoom_y) \n",
    "\n",
    "doc = fitz.open(PDF_FILENAME) \n",
    "for page in doc: \n",
    "    pix = page.get_pixmap(matrix=mat)  \n",
    "    outpath = f\"./Images/{PDF_FILENAME}_{page.number}.jpg\"\n",
    "    pix.save(outpath)  \n",
    "\n",
    "\n",
    "image_names = os.listdir(Image_Path)\n",
    "Max_images = len(image_names)\n",
    "\n",
    "\n",
    "page_source = []\n",
    "page_content = []\n",
    "page_id = []\n",
    "\n",
    "p_id = 0  \n",
    "rest_count = 0 \n",
    "\n",
    "while p_id < Max_images:\n",
    "    try:\n",
    "        \n",
    "        image_path = Image_Path + image_names[p_id]\n",
    "\n",
    "        image = Image.load_from_file(image_path)\n",
    "\n",
    "        prompt_text = \"Extract all text content in the image\"\n",
    "        prompt_table = (\n",
    "            \"Detect table in this image. Extract content maintaining the structure\"\n",
    "        )\n",
    "\n",
    "        contents = [image, prompt_text]\n",
    "        response = multimodal_model.generate_content(contents)\n",
    "        text_content = response.text\n",
    "\n",
    "        contents = [image, prompt_table]\n",
    "        response = multimodal_model.generate_content(contents)\n",
    "        table_content = response.text\n",
    "\n",
    "        print(f\"processed image no: {p_id}\")\n",
    "        page_source.append(image_path)\n",
    "        page_content.append(text_content + \"\\n\" + table_content)\n",
    "        page_id.append(p_id)\n",
    "        p_id += 1\n",
    "\n",
    "    except Exception as err:\n",
    "        print(err)\n",
    "        print(\"Taking Some Rest\")\n",
    "        time.sleep(1) \n",
    "        rest_count += 1\n",
    "        if rest_count == 5:  \n",
    "            rest_count = 0\n",
    "            print(f\"Can not process image no: {image_path}\")\n",
    "            p_id += 1 \n",
    "\n",
    "df = pd.DataFrame(\n",
    "    {\"page_id\": page_id, \"page_source\": page_source, \"page_content\": page_content}\n",
    ")\n",
    "del page_id, page_source, page_content  "
   ]
  },
  {
   "cell_type": "code",
   "execution_count": null,
   "metadata": {},
   "outputs": [],
   "source": [
    "def generate_text_embedding(text) -> list:\n",
    "    embeddings = text_embedding_model.get_embeddings([text])\n",
    "    vector = embeddings[0].values\n",
    "    return vector\n",
    "\n",
    "loader = DataFrameLoader(df, page_content_column=\"page_content\")\n",
    "\n",
    "documents = loader.load()\n",
    "print(f\"# of documents loaded (pre-chunking) = {len(documents)}\")\n",
    "\n",
    "text_splitter = CharacterTextSplitter(\n",
    "    chunk_size=10000,  \n",
    "    chunk_overlap=200,  \n",
    ")\n",
    "\n",
    "doc_splits = text_splitter.split_documents(documents)\n",
    "\n",
    "for idx, split in enumerate(doc_splits):\n",
    "    split.metadata[\"chunk\"] = idx\n",
    "\n",
    "print(f\"# of documents = {len(doc_splits)}\")\n",
    "\n",
    "texts = [doc.page_content for doc in doc_splits]\n",
    "text_embeddings_list = []\n",
    "id_list = []\n",
    "page_source_list = []\n",
    "for doc in doc_splits:\n",
    "    id = uuid.uuid4()\n",
    "    text_embeddings_list.append(generate_text_embedding(doc.page_content))\n",
    "    id_list.append(str(id))\n",
    "    page_source_list.append(doc.metadata[\"page_source\"])\n",
    "    time.sleep(1) \n",
    "\n",
    "embedding_df = pd.DataFrame(\n",
    "    {\n",
    "        \"id\": id_list,\n",
    "        \"embedding\": text_embeddings_list,\n",
    "        \"page_source\": page_source_list,\n",
    "        \"text\": texts,\n",
    "    }\n",
    ")\n",
    "embedding_df.head()"
   ]
  },
  {
   "cell_type": "code",
   "execution_count": null,
   "metadata": {},
   "outputs": [],
   "source": [
    "VECTOR_SEARCH_REGION = \"{Region name}\"\n",
    "VECTOR_SEARCH_INDEX_NAME = f\"{PROJECT_ID}-vector-search-index-ht\"\n",
    "VECTOR_SEARCH_EMBEDDING_DIR = f\"{PROJECT_ID}-vector-search-bucket-ht\"\n",
    "VECTOR_SEARCH_DIMENSIONS = 768"
   ]
  },
  {
   "cell_type": "code",
   "execution_count": null,
   "metadata": {},
   "outputs": [],
   "source": [
    "jsonl_string = embedding_df[[\"id\", \"embedding\"]].to_json(orient=\"records\", lines=True)\n",
    "with open(\"data.json\", \"w\") as f:\n",
    "    f.write(jsonl_string)"
   ]
  },
  {
   "cell_type": "code",
   "execution_count": null,
   "metadata": {},
   "outputs": [],
   "source": [
    "# Creates a GCS bucket\n",
    "BUCKET_NAME = \"documents-bucket-123\"\n",
    "BUCKET_URI = f\"gs://{BUCKET_NAME}\""
   ]
  },
  {
   "cell_type": "code",
   "execution_count": null,
   "metadata": {},
   "outputs": [],
   "source": [
    "# Get bucket if already created\n",
    "storage_client = storage.Client()\n",
    "bucket = storage_client.get_bucket(BUCKET_NAME)\n",
    "blob = bucket.blob(\"data.json\")\n",
    "blob.upload_from_filename(\"data.json\")"
   ]
  },
  {
   "cell_type": "code",
   "execution_count": null,
   "metadata": {},
   "outputs": [],
   "source": [
    "# create index\n",
    "my_index = aiplatform.MatchingEngineIndex.create_tree_ah_index(\n",
    "    display_name=f\"{VECTOR_SEARCH_INDEX_NAME}\",\n",
    "    contents_delta_uri=BUCKET_URI,\n",
    "    dimensions=768,\n",
    "    approximate_neighbors_count=20,\n",
    "    distance_measure_type=\"DOT_PRODUCT_DISTANCE\",\n",
    ")"
   ]
  },
  {
   "cell_type": "code",
   "execution_count": null,
   "metadata": {},
   "outputs": [],
   "source": [
    "# create IndexEndpoint\n",
    "my_index_endpoint = aiplatform.MatchingEngineIndexEndpoint.create(\n",
    "    display_name=f\"{VECTOR_SEARCH_INDEX_NAME}\",\n",
    "    public_endpoint_enabled=True,\n",
    ")"
   ]
  },
  {
   "cell_type": "code",
   "execution_count": null,
   "metadata": {},
   "outputs": [],
   "source": [
    "# Deploy Index\n",
    "DEPLOYED_INDEX_NAME = VECTOR_SEARCH_INDEX_NAME.replace(\n",
    "    \"-\", \"_\"\n",
    ")\n",
    "DEPLOYED_INDEX_ID = f\"{DEPLOYED_INDEX_NAME}\"\n",
    "my_index_endpoint.deploy_index(index=my_index, deployed_index_id=DEPLOYED_INDEX_ID)"
   ]
  },
  {
   "cell_type": "code",
   "execution_count": null,
   "metadata": {},
   "outputs": [],
   "source": [
    "def Test_LLM_Response(txt):\n",
    "\n",
    "    classification_prompt = f\"\"\" Classify the text as one of the following categories:\n",
    "        -Information Present\n",
    "        -Infromation Not Present\n",
    "        Text=The provided context does not contain information.\n",
    "        Category:Infromation Not Present\n",
    "        Text=I cannot answer this question from the provided context.\n",
    "        Category:Infromation Not Present\n",
    "        Text:{txt}\n",
    "        Category:\"\"\"\n",
    "    classification_response = multimodal_model.generate_content(classification_prompt).text\n",
    "\n",
    "    if \"Not Present\" in classification_response:\n",
    "        return False \n",
    "    else:\n",
    "        return True\n",
    "\n",
    "\n",
    "def get_prompt_text(question, context):\n",
    "    prompt = \"\"\"\n",
    "      Answer the question using the context below. Respond with only from the text provided\n",
    "      Question: {question}\n",
    "      Context : {context}\n",
    "      \"\"\".format(\n",
    "        question=question, context=context\n",
    "    )\n",
    "    return prompt\n",
    "\n",
    "\n",
    "def get_answer(query):\n",
    "\n",
    "    neighbor_index = 0  \n",
    "    answer_found_flag = 0  \n",
    "    result = \"\" \n",
    "    \n",
    "    page_source = \"./Images/blank.jpg\"  \n",
    "    query_embeddings = generate_text_embedding(\n",
    "        query\n",
    "    ) \n",
    "\n",
    "    response = my_index_endpoint.find_neighbors(\n",
    "        deployed_index_id=DEPLOYED_INDEX_ID,\n",
    "        queries=[query_embeddings],\n",
    "        num_neighbors=5,\n",
    "    )  \n",
    "\n",
    "    while answer_found_flag == 0 and neighbor_index < 4:\n",
    "        context = embedding_df[\n",
    "            embedding_df[\"id\"] == response[0][neighbor_index].id\n",
    "        ].text.values[\n",
    "            0\n",
    "        ] \n",
    "\n",
    "        prompt = get_prompt_text(\n",
    "            query, context\n",
    "        )  \n",
    "        result = multimodal_model.generate_content(prompt).text  \n",
    "\n",
    "        if Test_LLM_Response(result):\n",
    "            answer_found_flag = 1 \n",
    "        else:\n",
    "            neighbor_index += (\n",
    "                1 \n",
    "            )\n",
    "\n",
    "    if answer_found_flag == 1:\n",
    "        page_source = embedding_df[\n",
    "            embedding_df[\"id\"] == response[0][neighbor_index].id\n",
    "        ].page_source.values[\n",
    "            0\n",
    "        ]  \n",
    "    return result, page_source"
   ]
  },
  {
   "cell_type": "code",
   "execution_count": null,
   "metadata": {},
   "outputs": [],
   "source": [
    "query = (\n",
    "    \"what is the consolidated revenue of 2020 ?\"\n",
    ")\n",
    "\n",
    "result, page_source = get_answer(query)\n",
    "print(result)"
   ]
  },
  {
   "cell_type": "code",
   "execution_count": null,
   "metadata": {},
   "outputs": [],
   "source": [
    "query = (\n",
    "    \"what is the operating income of 2020 ?\"\n",
    ")\n",
    "\n",
    "result, page_source = get_answer(query)\n",
    "print(result)"
   ]
  },
  {
   "cell_type": "code",
   "execution_count": null,
   "metadata": {},
   "outputs": [],
   "source": [
    "query = (\n",
    "    \"what is the EMEA revenues of 2021 ?\"\n",
    ")\n",
    "\n",
    "result, page_source = get_answer(query)\n",
    "print(result)"
   ]
  },
  {
   "cell_type": "code",
   "execution_count": null,
   "metadata": {},
   "outputs": [],
   "source": [
    "query = (\n",
    "    \"On what date did ALPHABET INC. CLASS C CAPITAL STOCK overtook NASDAQ Composite\"\n",
    ")\n",
    "\n",
    "result, page_source = get_answer(query)\n",
    "print(result)"
   ]
  },
  {
   "cell_type": "code",
   "execution_count": null,
   "metadata": {},
   "outputs": [],
   "source": []
  }
 ],
 "metadata": {
  "kernelspec": {
   "display_name": "venv",
   "language": "python",
   "name": "python3"
  },
  "language_info": {
   "codemirror_mode": {
    "name": "ipython",
    "version": 3
   },
   "file_extension": ".py",
   "mimetype": "text/x-python",
   "name": "python",
   "nbconvert_exporter": "python",
   "pygments_lexer": "ipython3",
   "version": "3.10.7"
  }
 },
 "nbformat": 4,
 "nbformat_minor": 2
}
